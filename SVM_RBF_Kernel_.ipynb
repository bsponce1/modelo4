{
  "metadata": {
    "kernelspec": {
      "language": "python",
      "display_name": "Python 3",
      "name": "python3"
    },
    "language_info": {
      "pygments_lexer": "ipython3",
      "nbconvert_exporter": "python",
      "version": "3.6.4",
      "file_extension": ".py",
      "codemirror_mode": {
        "name": "ipython",
        "version": 3
      },
      "name": "python",
      "mimetype": "text/x-python"
    },
    "colab": {
      "name": "SVM RBF Kernel .ipynb",
      "provenance": [],
      "collapsed_sections": [],
      "include_colab_link": true
    }
  },
  "nbformat_minor": 0,
  "nbformat": 4,
  "cells": [
    {
      "cell_type": "markdown",
      "metadata": {
        "id": "view-in-github",
        "colab_type": "text"
      },
      "source": [
        "<a href=\"https://colab.research.google.com/github/bsponce1/modelo4/blob/main/SVM_RBF_Kernel_.ipynb\" target=\"_parent\"><img src=\"https://colab.research.google.com/assets/colab-badge.svg\" alt=\"Open In Colab\"/></a>"
      ]
    },
    {
      "cell_type": "code",
      "source": [
        "'''Extrae el archivo zip del dataset'''\n",
        "import zipfile\n",
        "with zipfile.ZipFile('dataset.zip', 'r') as zip_ref:\n",
        "    zip_ref.extractall('.')"
      ],
      "metadata": {
        "_uuid": "8f2839f25d086af736a60e9eeb907d3b93b6e0e5",
        "_cell_guid": "b1076dfc-b9ad-4769-8c92-a6c4dae69d19",
        "execution": {
          "iopub.status.busy": "2022-04-27T14:55:22.124326Z",
          "iopub.execute_input": "2022-04-27T14:55:22.124879Z",
          "iopub.status.idle": "2022-04-27T14:55:26.50173Z",
          "shell.execute_reply.started": "2022-04-27T14:55:22.124786Z",
          "shell.execute_reply": "2022-04-27T14:55:26.50099Z"
        },
        "trusted": true,
        "id": "lL-JYM2hMtJZ"
      },
      "execution_count": null,
      "outputs": []
    },
    {
      "cell_type": "code",
      "source": [
        "'''Cargar librerias'''\n",
        "import tensorflow as tf\n",
        "import matplotlib.pyplot as plt\n",
        "import numpy as np\n",
        "import os\n",
        "import tensorflow as tf\n",
        "from tensorflow import keras\n",
        "from keras import layers\n",
        "import matplotlib.image as img\n",
        "\n",
        "\n",
        "%matplotlib inline"
      ],
      "metadata": {
        "id": "ik4mPMvDMwpO"
      },
      "execution_count": null,
      "outputs": []
    },
    {
      "cell_type": "code",
      "source": [
        "'''Instalar modulo'''\n",
        "!pip install split-folders\n",
        "import splitfolders\n",
        "'''Para asignar el entrenamiento, prueba y validacion'''\n",
        "splitfolders.ratio('./dataset', output=\"output\", seed=1337, ratio=(.6, 0.2,0.2)) "
      ],
      "metadata": {
        "execution": {
          "iopub.status.busy": "2022-04-27T14:55:26.504576Z",
          "iopub.execute_input": "2022-04-27T14:55:26.504978Z",
          "iopub.status.idle": "2022-04-27T15:05:14.295792Z",
          "shell.execute_reply.started": "2022-04-27T14:55:26.504938Z",
          "shell.execute_reply": "2022-04-27T15:05:14.295011Z"
        },
        "trusted": true,
        "colab": {
          "base_uri": "https://localhost:8080/"
        },
        "id": "Dtp0og1UMtJe",
        "outputId": "9583ffc8-353f-4cd5-fc3a-2d6463bb4b7d"
      },
      "execution_count": null,
      "outputs": [
        {
          "output_type": "stream",
          "name": "stdout",
          "text": [
            "Looking in indexes: https://pypi.org/simple, https://us-python.pkg.dev/colab-wheels/public/simple/\n",
            "Requirement already satisfied: split-folders in /usr/local/lib/python3.7/dist-packages (0.5.1)\n"
          ]
        },
        {
          "output_type": "stream",
          "name": "stderr",
          "text": [
            "Copying files: 400 files [00:00, 2739.86 files/s]\n"
          ]
        }
      ]
    },
    {
      "cell_type": "code",
      "source": [
        "'''Para procesar los datos con keras'''\n",
        "train_ds = tf.keras.preprocessing.image_dataset_from_directory(\n",
        "\"./output/train\",\n",
        "seed=123,\n",
        "image_size=(128, 128),\n",
        "batch_size=64\n",
        ")\n",
        "\n",
        "test_ds = tf.keras.preprocessing.image_dataset_from_directory(\n",
        "\"./output/test\",\n",
        "seed=123,\n",
        "image_size=(128, 128),\n",
        "batch_size=64\n",
        ")\n",
        "\n",
        "val_ds = tf.keras.preprocessing.image_dataset_from_directory(\n",
        "\"./output/val\",\n",
        "seed=123,\n",
        "image_size=(128, 128),\n",
        "batch_size=64\n",
        ")\n",
        "\n",
        "val_ds = tf.keras.preprocessing.image_dataset_from_directory(\n",
        "\"./output/val\",\n",
        "seed=123,\n",
        "image_size=(128, 128),\n",
        "batch_size=64\n",
        ")"
      ],
      "metadata": {
        "execution": {
          "iopub.status.busy": "2022-04-27T15:05:14.297337Z",
          "iopub.execute_input": "2022-04-27T15:05:14.297744Z",
          "iopub.status.idle": "2022-04-27T15:05:20.854755Z",
          "shell.execute_reply.started": "2022-04-27T15:05:14.297699Z",
          "shell.execute_reply": "2022-04-27T15:05:20.853884Z"
        },
        "trusted": true,
        "colab": {
          "base_uri": "https://localhost:8080/"
        },
        "id": "ejzBPjcHMtJg",
        "outputId": "8893572e-b97d-4399-a826-e0879f73232e"
      },
      "execution_count": null,
      "outputs": [
        {
          "output_type": "stream",
          "name": "stdout",
          "text": [
            "Found 240 files belonging to 5 classes.\n",
            "Found 80 files belonging to 5 classes.\n",
            "Found 80 files belonging to 5 classes.\n"
          ]
        }
      ]
    },
    {
      "cell_type": "code",
      "source": [
        "class_names = train_ds.class_names\n",
        "print(class_names)"
      ],
      "metadata": {
        "execution": {
          "iopub.status.busy": "2022-04-27T15:05:20.856966Z",
          "iopub.execute_input": "2022-04-27T15:05:20.860023Z",
          "iopub.status.idle": "2022-04-27T15:05:20.866144Z",
          "shell.execute_reply.started": "2022-04-27T15:05:20.859985Z",
          "shell.execute_reply": "2022-04-27T15:05:20.864931Z"
        },
        "trusted": true,
        "colab": {
          "base_uri": "https://localhost:8080/"
        },
        "id": "s2b43umwMtJh",
        "outputId": "8d9d8869-130e-4092-e9bd-e06a3035e8cb"
      },
      "execution_count": null,
      "outputs": [
        {
          "output_type": "stream",
          "name": "stdout",
          "text": [
            "['Arborio', 'Basmati', 'Ipsala', 'Jasmine', 'Karacadag']\n"
          ]
        }
      ]
    },
    {
      "cell_type": "code",
      "source": [
        "'''Para crear la figura'''\n",
        "fig, ax = plt.subplots(ncols=5, figsize=(20,5))\n",
        "fig.suptitle('Rice Category')\n",
        "'''Para tomar los tipos de datos para predecir'''\n",
        "arborio_img = img.imread('./dataset/Arborio/Arborio (1).jpg')\n",
        "basmati_img = img.imread('./dataset//Basmati/Basmati (1).jpg')\n",
        "ipsala_img = img.imread('./dataset/Ipsala/Ipsala (1).jpg')\n",
        "jasmine_img = img.imread('./dataset/Jasmine/Jasmine (1).jpg')\n",
        "karacadag_img = img.imread('./dataset/Karacadag/Karacadag (1).jpg')\n",
        "\n",
        "'''Poner nombres a las imagenes'''\n",
        "ax[0].set_title('arborio')\n",
        "ax[1].set_title('basmati')\n",
        "ax[2].set_title('ipsala')\n",
        "ax[3].set_title('jasmine')\n",
        "ax[4].set_title('karacadag')\n",
        "'''Ejecutar las imagenes de los tipos de arroz'''\n",
        "ax[0].imshow(arborio_img)\n",
        "ax[1].imshow(basmati_img)\n",
        "ax[2].imshow(ipsala_img)\n",
        "ax[3].imshow(jasmine_img)\n",
        "ax[4].imshow(karacadag_img)"
      ],
      "metadata": {
        "execution": {
          "iopub.status.busy": "2022-04-27T15:05:20.867571Z",
          "iopub.execute_input": "2022-04-27T15:05:20.868067Z",
          "iopub.status.idle": "2022-04-27T15:05:22.176757Z",
          "shell.execute_reply.started": "2022-04-27T15:05:20.86803Z",
          "shell.execute_reply": "2022-04-27T15:05:22.176059Z"
        },
        "trusted": true,
        "colab": {
          "base_uri": "https://localhost:8080/",
          "height": 278
        },
        "id": "D2Mn-S03MtJh",
        "outputId": "4e7514fd-3619-4a44-9b7a-b5c911703759"
      },
      "execution_count": null,
      "outputs": [
        {
          "output_type": "execute_result",
          "data": {
            "text/plain": [
              "<matplotlib.image.AxesImage at 0x7f62f51f8790>"
            ]
          },
          "metadata": {},
          "execution_count": 6
        },
        {
          "output_type": "display_data",
          "data": {
            "text/plain": [
              "<Figure size 1440x360 with 5 Axes>"
            ],
            "image/png": "[encoded data removed]"
          },
          "metadata": {
            "needs_background": "light"
          }
        }
      ]
    },
    {
      "cell_type": "code",
      "source": [
        "'''Toma una imagen como prediccion'''\n",
        "data='./dataset'\n",
        "import cv2\n",
        "for category in class_names:\n",
        "    path=os.path.join(data, category)\n",
        "    for img in os.listdir(path):\n",
        "        img_array=cv2.imread(os.path.join(path,img))\n",
        "        plt.imshow(img_array)\n",
        "        plt.show()\n",
        "        break\n",
        "    break"
      ],
      "metadata": {
        "execution": {
          "iopub.status.busy": "2022-04-27T15:15:37.477244Z",
          "iopub.execute_input": "2022-04-27T15:15:37.477544Z",
          "iopub.status.idle": "2022-04-27T15:15:37.52118Z",
          "shell.execute_reply.started": "2022-04-27T15:15:37.47751Z",
          "shell.execute_reply": "2022-04-27T15:15:37.520539Z"
        },
        "trusted": true,
        "id": "hSqWZt3YMtJi",
        "colab": {
          "base_uri": "https://localhost:8080/",
          "height": 269
        },
        "outputId": "a1769d15-c2e8-4021-e605-a078354ed525"
      },
      "execution_count": null,
      "outputs": [
        {
          "output_type": "display_data",
          "data": {
            "text/plain": [
              "<Figure size 432x288 with 1 Axes>"
            ],
            "image/png": "[encoded data removed]"
          },
          "metadata": {
            "needs_background": "light"
          }
        }
      ]
    },
    {
      "cell_type": "code",
      "source": [
        "'''Creacion del entrenamiento de los datos'''\n",
        "training_data=[]\n",
        "IMG_SIZE=100\n",
        "def create_training_data():\n",
        "    for category in class_names:\n",
        "        path=os.path.join(data, category)\n",
        "        class_num=class_names.index(category)\n",
        "        for img in os.listdir(path):\n",
        "            try:\n",
        "                img_array=cv2.imread(os.path.join(path,img))\n",
        "                new_array=cv2.resize(img_array,(IMG_SIZE,IMG_SIZE))\n",
        "                training_data.append([new_array,class_num])\n",
        "            except Exception as e:\n",
        "                pass\n",
        "create_training_data() \n",
        "'''Ver la cantidad de datos'''\n",
        "print(len(training_data))"
      ],
      "metadata": {
        "execution": {
          "iopub.status.busy": "2022-04-27T15:15:44.992299Z",
          "iopub.execute_input": "2022-04-27T15:15:44.992568Z",
          "iopub.status.idle": "2022-04-27T15:15:45.004374Z",
          "shell.execute_reply.started": "2022-04-27T15:15:44.992539Z",
          "shell.execute_reply": "2022-04-27T15:15:45.003662Z"
        },
        "trusted": true,
        "id": "z_ao0FSbMtJj"
      },
      "execution_count": null,
      "outputs": []
    },
    {
      "cell_type": "code",
      "source": [
        "print(len(training_data))"
      ],
      "metadata": {
        "execution": {
          "iopub.status.busy": "2022-04-27T15:15:55.59982Z",
          "iopub.execute_input": "2022-04-27T15:15:55.60009Z",
          "iopub.status.idle": "2022-04-27T15:16:09.397921Z",
          "shell.execute_reply.started": "2022-04-27T15:15:55.600062Z",
          "shell.execute_reply": "2022-04-27T15:16:09.396586Z"
        },
        "trusted": true,
        "colab": {
          "base_uri": "https://localhost:8080/"
        },
        "id": "eaDl_FzQMtJk",
        "outputId": "55c3f902-6d56-4479-9920-6bb152d5be3d"
      },
      "execution_count": null,
      "outputs": [
        {
          "output_type": "stream",
          "name": "stdout",
          "text": [
            "400\n"
          ]
        }
      ]
    },
    {
      "cell_type": "code",
      "source": [
        "lenofimage = len(training_data)"
      ],
      "metadata": {
        "id": "Yu9ZNXwYMtJl"
      },
      "execution_count": null,
      "outputs": []
    },
    {
      "cell_type": "code",
      "source": [
        "X=[]\n",
        "y=[]\n",
        "\n",
        "for categories, label in training_data:\n",
        "    X.append(categories)\n",
        "    y.append(label)\n",
        "X= np.array(X).reshape(lenofimage,-1)\n",
        "##X = tf.keras.utils.normalize(X, axis = 1)"
      ],
      "metadata": {
        "execution": {
          "iopub.status.busy": "2022-04-27T15:05:22.780107Z",
          "iopub.status.idle": "2022-04-27T15:05:22.780663Z",
          "shell.execute_reply.started": "2022-04-27T15:05:22.780421Z",
          "shell.execute_reply": "2022-04-27T15:05:22.780456Z"
        },
        "trusted": true,
        "id": "vmqrwzUQMtJm"
      },
      "execution_count": null,
      "outputs": []
    },
    {
      "cell_type": "code",
      "source": [
        "X.shape"
      ],
      "metadata": {
        "execution": {
          "iopub.status.busy": "2022-04-27T15:05:22.781735Z",
          "iopub.status.idle": "2022-04-27T15:05:22.782274Z",
          "shell.execute_reply.started": "2022-04-27T15:05:22.782031Z",
          "shell.execute_reply": "2022-04-27T15:05:22.782057Z"
        },
        "trusted": true,
        "colab": {
          "base_uri": "https://localhost:8080/"
        },
        "id": "sYPYGpmDMtJn",
        "outputId": "5ff6f261-32b8-432b-920b-c0316eb13713"
      },
      "execution_count": null,
      "outputs": [
        {
          "output_type": "execute_result",
          "data": {
            "text/plain": [
              "(400, 30000)"
            ]
          },
          "metadata": {},
          "execution_count": 12
        }
      ]
    },
    {
      "cell_type": "code",
      "source": [
        "X = X/255.0"
      ],
      "metadata": {
        "execution": {
          "iopub.status.busy": "2022-04-27T15:05:22.783329Z",
          "iopub.status.idle": "2022-04-27T15:05:22.783862Z",
          "shell.execute_reply.started": "2022-04-27T15:05:22.783633Z",
          "shell.execute_reply": "2022-04-27T15:05:22.78366Z"
        },
        "trusted": true,
        "id": "FEhGI-j_MtJn"
      },
      "execution_count": null,
      "outputs": []
    },
    {
      "cell_type": "code",
      "source": [
        "X[1]"
      ],
      "metadata": {
        "execution": {
          "iopub.status.busy": "2022-04-27T15:05:22.784911Z",
          "iopub.status.idle": "2022-04-27T15:05:22.785464Z",
          "shell.execute_reply.started": "2022-04-27T15:05:22.785226Z",
          "shell.execute_reply": "2022-04-27T15:05:22.785252Z"
        },
        "trusted": true,
        "colab": {
          "base_uri": "https://localhost:8080/"
        },
        "id": "P05YTxv4MtJo",
        "outputId": "2cc3d3ae-ecba-409b-8fff-d2979d797584"
      },
      "execution_count": null,
      "outputs": [
        {
          "output_type": "execute_result",
          "data": {
            "text/plain": [
              "array([0., 0., 0., ..., 0., 0., 0.])"
            ]
          },
          "metadata": {},
          "execution_count": 14
        }
      ]
    },
    {
      "cell_type": "code",
      "source": [
        "y=np.array(y)\n",
        "y.shape"
      ],
      "metadata": {
        "colab": {
          "base_uri": "https://localhost:8080/"
        },
        "id": "O2LvRlL7evSj",
        "outputId": "3ea6823e-b2ef-4884-e7a0-d2788ea6e3db"
      },
      "execution_count": null,
      "outputs": [
        {
          "output_type": "execute_result",
          "data": {
            "text/plain": [
              "(400,)"
            ]
          },
          "metadata": {},
          "execution_count": 15
        }
      ]
    },
    {
      "cell_type": "code",
      "source": [
        "'''Para entrenar el modelo'''\n",
        "from sklearn.model_selection import train_test_split\n",
        "X_train, X_test, y_train, y_test = train_test_split(X,y)"
      ],
      "metadata": {
        "id": "7g-GmHiue1p0"
      },
      "execution_count": null,
      "outputs": []
    },
    {
      "cell_type": "code",
      "source": [
        "from sklearn.svm import SVC\n",
        "'''Asignacion del kernel'''\n",
        "svc = SVC(kernel='linear',gamma='auto')\n",
        "svc.fit(X_train, y_train)"
      ],
      "metadata": {
        "colab": {
          "base_uri": "https://localhost:8080/"
        },
        "id": "qZHcHerme4lg",
        "outputId": "f9078fbc-e818-479c-83e8-68c060d913f2"
      },
      "execution_count": null,
      "outputs": [
        {
          "output_type": "execute_result",
          "data": {
            "text/plain": [
              "SVC(gamma='auto', kernel='linear')"
            ]
          },
          "metadata": {},
          "execution_count": 17
        }
      ]
    },
    {
      "cell_type": "code",
      "source": [
        "'''Creacion de la variable'''\n",
        "y2 = svc.predict(X_test)"
      ],
      "metadata": {
        "id": "zm8_IzB6e7EL"
      },
      "execution_count": null,
      "outputs": []
    },
    {
      "cell_type": "code",
      "source": [
        "'''Acurracy del modelo'''\n",
        "from sklearn.metrics import accuracy_score\n",
        "print(\"Accuracy on unknown data is\",accuracy_score(y_test,y2))"
      ],
      "metadata": {
        "colab": {
          "base_uri": "https://localhost:8080/"
        },
        "id": "TlELBerMe-Xg",
        "outputId": "527dc0b9-7edc-4de0-ead9-6bea65ce2565"
      },
      "execution_count": null,
      "outputs": [
        {
          "output_type": "stream",
          "name": "stdout",
          "text": [
            "Accuracy on unknown data is 0.97\n"
          ]
        }
      ]
    },
    {
      "cell_type": "code",
      "source": [
        "'''Acurracy de cada imagen'''\n",
        "from sklearn.metrics import classification_report\n",
        "print(\"Accuracy on unknown data is\",classification_report(y_test,y2))"
      ],
      "metadata": {
        "colab": {
          "base_uri": "https://localhost:8080/"
        },
        "id": "oiT7wuTcfCVf",
        "outputId": "45c54d47-2155-4d2e-bb26-5fa0d83859a6"
      },
      "execution_count": null,
      "outputs": [
        {
          "output_type": "stream",
          "name": "stdout",
          "text": [
            "Accuracy on unknown data is               precision    recall  f1-score   support\n",
            "\n",
            "           0       0.88      1.00      0.94        23\n",
            "           1       1.00      1.00      1.00        14\n",
            "           2       1.00      1.00      1.00        18\n",
            "           3       1.00      1.00      1.00        23\n",
            "           4       1.00      0.86      0.93        22\n",
            "\n",
            "    accuracy                           0.97       100\n",
            "   macro avg       0.98      0.97      0.97       100\n",
            "weighted avg       0.97      0.97      0.97       100\n",
            "\n"
          ]
        }
      ]
    },
    {
      "cell_type": "code",
      "source": [
        ""
      ],
      "metadata": {
        "id": "nDZbxrccCJdX"
      },
      "execution_count": null,
      "outputs": []
    },
    {
      "cell_type": "code",
      "source": [
        "'''Para visualizar los datos'''\n",
        "import pandas as pd\n",
        "'''Mostrar el resultado de la prediccion'''\n",
        "result = pd.DataFrame({'original' : y_test,'predicted' : y2})\n",
        "result.head(20)"
      ],
      "metadata": {
        "colab": {
          "base_uri": "https://localhost:8080/",
          "height": 677
        },
        "id": "ZrlMp00sfG12",
        "outputId": "a9f47527-ba29-47f2-8cfc-c6d3b27ac854"
      },
      "execution_count": null,
      "outputs": [
        {
          "output_type": "execute_result",
          "data": {
            "text/plain": [
              "    original  predicted\n",
              "0          1          1\n",
              "1          1          1\n",
              "2          0          0\n",
              "3          2          2\n",
              "4          0          0\n",
              "5          3          3\n",
              "6          4          4\n",
              "7          4          4\n",
              "8          4          4\n",
              "9          3          3\n",
              "10         0          0\n",
              "11         2          2\n",
              "12         4          4\n",
              "13         3          3\n",
              "14         2          2\n",
              "15         0          0\n",
              "16         3          3\n",
              "17         0          0\n",
              "18         0          0\n",
              "19         2          2"
            ],
            "text/html": [
              "\n",
              "  <div id=\"df-9663a635-a91a-46d6-b20a-863685c9ed84\">\n",
              "    <div class=\"colab-df-container\">\n",
              "      <div>\n",
              "<style scoped>\n",
              "    .dataframe tbody tr th:only-of-type {\n",
              "        vertical-align: middle;\n",
              "    }\n",
              "\n",
              "    .dataframe tbody tr th {\n",
              "        vertical-align: top;\n",
              "    }\n",
              "\n",
              "    .dataframe thead th {\n",
              "        text-align: right;\n",
              "    }\n",
              "</style>\n",
              "<table border=\"1\" class=\"dataframe\">\n",
              "  <thead>\n",
              "    <tr style=\"text-align: right;\">\n",
              "      <th></th>\n",
              "      <th>original</th>\n",
              "      <th>predicted</th>\n",
              "    </tr>\n",
              "  </thead>\n",
              "  <tbody>\n",
              "    <tr>\n",
              "      <th>0</th>\n",
              "      <td>1</td>\n",
              "      <td>1</td>\n",
              "    </tr>\n",
              "    <tr>\n",
              "      <th>1</th>\n",
              "      <td>1</td>\n",
              "      <td>1</td>\n",
              "    </tr>\n",
              "    <tr>\n",
              "      <th>2</th>\n",
              "      <td>0</td>\n",
              "      <td>0</td>\n",
              "    </tr>\n",
              "    <tr>\n",
              "      <th>3</th>\n",
              "      <td>2</td>\n",
              "      <td>2</td>\n",
              "    </tr>\n",
              "    <tr>\n",
              "      <th>4</th>\n",
              "      <td>0</td>\n",
              "      <td>0</td>\n",
              "    </tr>\n",
              "    <tr>\n",
              "      <th>5</th>\n",
              "      <td>3</td>\n",
              "      <td>3</td>\n",
              "    </tr>\n",
              "    <tr>\n",
              "      <th>6</th>\n",
              "      <td>4</td>\n",
              "      <td>4</td>\n",
              "    </tr>\n",
              "    <tr>\n",
              "      <th>7</th>\n",
              "      <td>4</td>\n",
              "      <td>4</td>\n",
              "    </tr>\n",
              "    <tr>\n",
              "      <th>8</th>\n",
              "      <td>4</td>\n",
              "      <td>4</td>\n",
              "    </tr>\n",
              "    <tr>\n",
              "      <th>9</th>\n",
              "      <td>3</td>\n",
              "      <td>3</td>\n",
              "    </tr>\n",
              "    <tr>\n",
              "      <th>10</th>\n",
              "      <td>0</td>\n",
              "      <td>0</td>\n",
              "    </tr>\n",
              "    <tr>\n",
              "      <th>11</th>\n",
              "      <td>2</td>\n",
              "      <td>2</td>\n",
              "    </tr>\n",
              "    <tr>\n",
              "      <th>12</th>\n",
              "      <td>4</td>\n",
              "      <td>4</td>\n",
              "    </tr>\n",
              "    <tr>\n",
              "      <th>13</th>\n",
              "      <td>3</td>\n",
              "      <td>3</td>\n",
              "    </tr>\n",
              "    <tr>\n",
              "      <th>14</th>\n",
              "      <td>2</td>\n",
              "      <td>2</td>\n",
              "    </tr>\n",
              "    <tr>\n",
              "      <th>15</th>\n",
              "      <td>0</td>\n",
              "      <td>0</td>\n",
              "    </tr>\n",
              "    <tr>\n",
              "      <th>16</th>\n",
              "      <td>3</td>\n",
              "      <td>3</td>\n",
              "    </tr>\n",
              "    <tr>\n",
              "      <th>17</th>\n",
              "      <td>0</td>\n",
              "      <td>0</td>\n",
              "    </tr>\n",
              "    <tr>\n",
              "      <th>18</th>\n",
              "      <td>0</td>\n",
              "      <td>0</td>\n",
              "    </tr>\n",
              "    <tr>\n",
              "      <th>19</th>\n",
              "      <td>2</td>\n",
              "      <td>2</td>\n",
              "    </tr>\n",
              "  </tbody>\n",
              "</table>\n",
              "</div>\n",
              "      <button class=\"colab-df-convert\" onclick=\"convertToInteractive('df-9663a635-a91a-46d6-b20a-863685c9ed84')\"\n",
              "              title=\"Convert this dataframe to an interactive table.\"\n",
              "              style=\"display:none;\">\n",
              "        \n",
              "  <svg xmlns=\"http://www.w3.org/2000/svg\" height=\"24px\"viewBox=\"0 0 24 24\"\n",
              "       width=\"24px\">\n",
              "    <path d=\"M0 0h24v24H0V0z\" fill=\"none\"/>\n",
              "    <path d=\"M18.56 5.44l.94 2.06.94-2.06 2.06-.94-2.06-.94-.94-2.06-.94 2.06-2.06.94zm-11 1L8.5 8.5l.94-2.06 2.06-.94-2.06-.94L8.5 2.5l-.94 2.06-2.06.94zm10 10l.94 2.06.94-2.06 2.06-.94-2.06-.94-.94-2.06-.94 2.06-2.06.94z\"/><path d=\"M17.41 7.96l-1.37-1.37c-.4-.4-.92-.59-1.43-.59-.52 0-1.04.2-1.43.59L10.3 9.45l-7.72 7.72c-.78.78-.78 2.05 0 2.83L4 21.41c.39.39.9.59 1.41.59.51 0 1.02-.2 1.41-.59l7.78-7.78 2.81-2.81c.8-.78.8-2.07 0-2.86zM5.41 20L4 18.59l7.72-7.72 1.47 1.35L5.41 20z\"/>\n",
              "  </svg>\n",
              "      </button>\n",
              "      \n",
              "  <style>\n",
              "    .colab-df-container {\n",
              "      display:flex;\n",
              "      flex-wrap:wrap;\n",
              "      gap: 12px;\n",
              "    }\n",
              "\n",
              "    .colab-df-convert {\n",
              "      background-color: #E8F0FE;\n",
              "      border: none;\n",
              "      border-radius: 50%;\n",
              "      cursor: pointer;\n",
              "      display: none;\n",
              "      fill: #1967D2;\n",
              "      height: 32px;\n",
              "      padding: 0 0 0 0;\n",
              "      width: 32px;\n",
              "    }\n",
              "\n",
              "    .colab-df-convert:hover {\n",
              "      background-color: #E2EBFA;\n",
              "      box-shadow: 0px 1px 2px rgba(60, 64, 67, 0.3), 0px 1px 3px 1px rgba(60, 64, 67, 0.15);\n",
              "      fill: #174EA6;\n",
              "    }\n",
              "\n",
              "    [theme=dark] .colab-df-convert {\n",
              "      background-color: #3B4455;\n",
              "      fill: #D2E3FC;\n",
              "    }\n",
              "\n",
              "    [theme=dark] .colab-df-convert:hover {\n",
              "      background-color: #434B5C;\n",
              "      box-shadow: 0px 1px 3px 1px rgba(0, 0, 0, 0.15);\n",
              "      filter: drop-shadow(0px 1px 2px rgba(0, 0, 0, 0.3));\n",
              "      fill: #FFFFFF;\n",
              "    }\n",
              "  </style>\n",
              "\n",
              "      <script>\n",
              "        const buttonEl =\n",
              "          document.querySelector('#df-9663a635-a91a-46d6-b20a-863685c9ed84 button.colab-df-convert');\n",
              "        buttonEl.style.display =\n",
              "          google.colab.kernel.accessAllowed ? 'block' : 'none';\n",
              "\n",
              "        async function convertToInteractive(key) {\n",
              "          const element = document.querySelector('#df-9663a635-a91a-46d6-b20a-863685c9ed84');\n",
              "          const dataTable =\n",
              "            await google.colab.kernel.invokeFunction('convertToInteractive',\n",
              "                                                     [key], {});\n",
              "          if (!dataTable) return;\n",
              "\n",
              "          const docLinkHtml = 'Like what you see? Visit the ' +\n",
              "            '<a target=\"_blank\" href=https://colab.research.google.com/notebooks/data_table.ipynb>data table notebook</a>'\n",
              "            + ' to learn more about interactive tables.';\n",
              "          element.innerHTML = '';\n",
              "          dataTable['output_type'] = 'display_data';\n",
              "          await google.colab.output.renderOutput(dataTable, element);\n",
              "          const docLink = document.createElement('div');\n",
              "          docLink.innerHTML = docLinkHtml;\n",
              "          element.appendChild(docLink);\n",
              "        }\n",
              "      </script>\n",
              "    </div>\n",
              "  </div>\n",
              "  "
            ]
          },
          "metadata": {},
          "execution_count": 21
        }
      ]
    },
    {
      "cell_type": "code",
      "source": [
        "'''Creacion del kernel RBF'''\n",
        "rbf_param_grid = {\n",
        "        \"kernel\": [\"rbf\"],\n",
        "        \"gamma\": [\"auto\", \"scale\"],\n",
        "        \"C\": [0.0001, 0.001, 0.1, 1, 10, 100, 1000],\n",
        "        \"decision_function_shape\": ['ovo', 'ovr']\n",
        "}\n"
      ],
      "metadata": {
        "id": "3vmjB-_2jGz-"
      },
      "execution_count": null,
      "outputs": []
    },
    {
      "cell_type": "code",
      "source": [
        "'''Llamada al kernel de RBF kernel'''\n",
        "from sklearn import svm\n",
        "from sklearn.model_selection import GridSearchCV\n",
        "rbf_grid = GridSearchCV(svm.SVC(probability=True), rbf_param_grid)\n",
        "rbf_grid.fit(X_train,y_train)\n",
        "print(rbf_grid.best_estimator_)"
      ],
      "metadata": {
        "id": "oJT9xARYikyX",
        "colab": {
          "base_uri": "https://localhost:8080/"
        },
        "outputId": "b7ba8a9f-5988-4306-a6e2-fc692c38c9cc"
      },
      "execution_count": null,
      "outputs": [
        {
          "output_type": "stream",
          "name": "stdout",
          "text": [
            "SVC(C=10, decision_function_shape='ovo', probability=True)\n"
          ]
        }
      ]
    },
    {
      "cell_type": "code",
      "source": [
        "'''Las metricas del modelo'''\n",
        "from sklearn.metrics import accuracy_score, precision_score, recall_score, f1_score, make_scorer\n",
        "rbf_pred = rbf_grid.predict(X_test)\n",
        "rbf_accuracy = accuracy_score(y_test, rbf_pred)\n",
        "rbf_precision = precision_score(y_test, rbf_pred, average='weighted')\n",
        "rbf_recall = recall_score(y_test, rbf_pred, average='weighted')\n",
        "rbf_f1 = f1_score(y_test, rbf_pred, average='weighted')\n",
        "print('Accuracy (RBF Kernel): ', \"%.2f\" % (rbf_accuracy*100))\n",
        "print('F1 (RBF Kernel): ', \"%.2f\" % (rbf_f1*100))\n",
        "print('Precision (RBF Kernel): ', \"%.2f\" % (rbf_precision*100))\n",
        "print('Recall (RBF Kernel): ', \"%.2f\" % (rbf_recall*100))\n"
      ],
      "metadata": {
        "id": "_xIcp_5GiP8B",
        "colab": {
          "base_uri": "https://localhost:8080/"
        },
        "outputId": "4097d959-1849-4230-eecf-0a3242be8cf0"
      },
      "execution_count": null,
      "outputs": [
        {
          "output_type": "stream",
          "name": "stdout",
          "text": [
            "Accuracy (RBF Kernel):  97.00\n",
            "F1 (RBF Kernel):  96.98\n",
            "Precision (RBF Kernel):  97.35\n",
            "Recall (RBF Kernel):  97.00\n"
          ]
        }
      ]
    },
    {
      "cell_type": "code",
      "source": [
        "'''Creacion de la matriz de confusion'''\n",
        "import seaborn as sns\n",
        "from sklearn.metrics import confusion_matrix\n",
        "cm = confusion_matrix(y_test, y2)\n",
        "\n",
        "plt.figure(figsize=(10,8))\n",
        "\n",
        "ax = sns.heatmap(cm/np.sum(cm),fmt='.2%', annot=True, cmap='vlag')\n",
        "\n",
        "ax.set_title('Confusion Matrix with labels\\n');\n",
        "ax.set_xlabel('\\nPredicted Values')\n",
        "ax.set_ylabel('Actual Values ');\n",
        "\n",
        "ax.xaxis.set_ticklabels(class_names)\n",
        "ax.yaxis.set_ticklabels(class_names)\n",
        "\n",
        "plt.show()"
      ],
      "metadata": {
        "id": "Cf6Jydx-SCjE",
        "colab": {
          "base_uri": "https://localhost:8080/",
          "height": 539
        },
        "outputId": "ed032bbf-6bab-4d8e-88b2-65ea4019f42e"
      },
      "execution_count": null,
      "outputs": [
        {
          "output_type": "display_data",
          "data": {
            "text/plain": [
              "<Figure size 720x576 with 2 Axes>"
            ],
            "image/png": "[encoded data removed]"
          },
          "metadata": {
            "needs_background": "light"
          }
        }
      ]
    }
  ]
}